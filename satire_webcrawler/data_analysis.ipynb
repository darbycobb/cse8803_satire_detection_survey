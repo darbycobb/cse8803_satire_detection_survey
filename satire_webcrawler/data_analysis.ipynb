{
 "cells": [
  {
   "cell_type": "code",
   "execution_count": 1,
   "metadata": {},
   "outputs": [],
   "source": [
    "import pandas as pd"
   ]
  },
  {
   "cell_type": "code",
   "execution_count": 9,
   "metadata": {},
   "outputs": [],
   "source": [
    "combined = pd.read_csv('../data/final_data_combined_large.csv')"
   ]
  },
  {
   "cell_type": "code",
   "execution_count": 10,
   "metadata": {},
   "outputs": [],
   "source": [
    "separate = pd.read_csv('../data/final_data_separate_large.csv')"
   ]
  },
  {
   "cell_type": "code",
   "execution_count": 13,
   "metadata": {},
   "outputs": [],
   "source": [
    "import re\n",
    "# Convert to lowercase\n",
    "combined = combined.applymap(lambda s: str(s).lower())\n",
    "separate = separate.applymap(lambda s: str(s).lower())\n",
    "\n",
    "# Fix Contractions\n",
    "contraction_dict = {\"ain't\": \"is not\", \"aren't\": \"are not\",\"can't\": \"cannot\", \"'cause\": \"because\", \"could've\": \"could have\", \"couldn't\": \"could not\", \"didn't\": \"did not\",  \"doesn't\": \"does not\", \"don't\": \"do not\", \"hadn't\": \"had not\", \"hasn't\": \"has not\", \"haven't\": \"have not\", \"he'd\": \"he would\",\"he'll\": \"he will\", \"he's\": \"he is\", \"how'd\": \"how did\", \"how'd'y\": \"how do you\", \"how'll\": \"how will\", \"how's\": \"how is\",  \"I'd\": \"I would\", \"I'd've\": \"I would have\", \"I'll\": \"I will\", \"I'll've\": \"I will have\",\"I'm\": \"I am\", \"I've\": \"I have\", \"i'd\": \"i would\", \"i'd've\": \"i would have\", \"i'll\": \"i will\",  \"i'll've\": \"i will have\",\"i'm\": \"i am\", \"i've\": \"i have\", \"isn't\": \"is not\", \"it'd\": \"it would\", \"it'd've\": \"it would have\", \"it'll\": \"it will\", \"it'll've\": \"it will have\",\"it's\": \"it is\", \"let's\": \"let us\", \"ma'am\": \"madam\", \"mayn't\": \"may not\", \"might've\": \"might have\",\"mightn't\": \"might not\",\"mightn't've\": \"might not have\", \"must've\": \"must have\", \"mustn't\": \"must not\", \"mustn't've\": \"must not have\", \"needn't\": \"need not\", \"needn't've\": \"need not have\",\"o'clock\": \"of the clock\", \"oughtn't\": \"ought not\", \"oughtn't've\": \"ought not have\", \"shan't\": \"shall not\", \"sha'n't\": \"shall not\", \"shan't've\": \"shall not have\", \"she'd\": \"she would\", \"she'd've\": \"she would have\", \"she'll\": \"she will\", \"she'll've\": \"she will have\", \"she's\": \"she is\", \"should've\": \"should have\", \"shouldn't\": \"should not\", \"shouldn't've\": \"should not have\", \"so've\": \"so have\",\"so's\": \"so as\", \"this's\": \"this is\",\"that'd\": \"that would\", \"that'd've\": \"that would have\", \"that's\": \"that is\", \"there'd\": \"there would\", \"there'd've\": \"there would have\", \"there's\": \"there is\", \"here's\": \"here is\",\"they'd\": \"they would\", \"they'd've\": \"they would have\", \"they'll\": \"they will\", \"they'll've\": \"they will have\", \"they're\": \"they are\", \"they've\": \"they have\", \"to've\": \"to have\", \"wasn't\": \"was not\", \"we'd\": \"we would\", \"we'd've\": \"we would have\", \"we'll\": \"we will\", \"we'll've\": \"we will have\", \"we're\": \"we are\", \"we've\": \"we have\", \"weren't\": \"were not\", \"what'll\": \"what will\", \"what'll've\": \"what will have\", \"what're\": \"what are\",  \"what's\": \"what is\", \"what've\": \"what have\", \"when's\": \"when is\", \"when've\": \"when have\", \"where'd\": \"where did\", \"where's\": \"where is\", \"where've\": \"where have\", \"who'll\": \"who will\", \"who'll've\": \"who will have\", \"who's\": \"who is\", \"who've\": \"who have\", \"why's\": \"why is\", \"why've\": \"why have\", \"will've\": \"will have\", \"won't\": \"will not\", \"won't've\": \"will not have\", \"would've\": \"would have\", \"wouldn't\": \"would not\", \"wouldn't've\": \"would not have\", \"y'all\": \"you all\", \"y'all'd\": \"you all would\",\"y'all'd've\": \"you all would have\",\"y'all're\": \"you all are\",\"y'all've\": \"you all have\",\"you'd\": \"you would\", \"you'd've\": \"you would have\", \"you'll\": \"you will\", \"you'll've\": \"you will have\", \"you're\": \"you are\", \"you've\": \"you have\"}\n",
    "\n",
    "def _get_contractions(contraction_dict):\n",
    "    contraction_re = re.compile('(%s)' % '|'.join(contraction_dict.keys()))\n",
    "    return contraction_dict, contraction_re\n",
    "\n",
    "contractions, contractions_re = _get_contractions(contraction_dict)\n",
    "\n",
    "def replace_contractions(text):\n",
    "    def replace(match):\n",
    "        return contractions[match.group(0)]\n",
    "    return contractions_re.sub(replace, text)\n",
    "combined['Heading_Body'] = combined['Heading_Body'].apply(replace_contractions)\n",
    "separate['Heading'] = separate['Heading'].apply(replace_contractions)\n",
    "separate['Body'] = separate['Body'].apply(replace_contractions)\n",
    "\n",
    "import string\n",
    "# Remove Puncuation\n",
    "def remove_punc(s):\n",
    "    punc_dict = {'!': '', '\"': '', '#': ' # ', '$': ' $ ', '%': ' % ', '&': ' & ', \"'\": \" ' \", '(': ' ( ', ')': ' ) ', '*': ' * ', '+': ' + ', ',': ' , ', '-': ' - ', '.': ' . ', '/': ' / ', ':': ' : ', ';': ' ; ', '<': ' less than ', '=': ' equals ', '>': ' greater than ', '?': ' ? ', '@': ' @ ', '[': ' [ ', '\\\\': ' \\\\ ', ']': ' ] ', '^': ' ^ ', '_': ' _ ', '`': ' ` ', '{': ' { ', '|': ' | ', '}': ' } ', '~': ' ~ ', '—':' — '}\n",
    "    table = str.maketrans({key: None for key in string.punctuation})  # OR {key: None for key in string.punctuation}\n",
    "    new_s = s.str.translate(table)\n",
    "    return new_s\n",
    "combined = combined.apply(remove_punc, axis=1)\n",
    "separate = separate.apply(remove_punc, axis=1)\n"
   ]
  },
  {
   "cell_type": "code",
   "execution_count": 14,
   "metadata": {},
   "outputs": [
    {
     "data": {
      "text/html": [
       "<div>\n",
       "<style scoped>\n",
       "    .dataframe tbody tr th:only-of-type {\n",
       "        vertical-align: middle;\n",
       "    }\n",
       "\n",
       "    .dataframe tbody tr th {\n",
       "        vertical-align: top;\n",
       "    }\n",
       "\n",
       "    .dataframe thead th {\n",
       "        text-align: right;\n",
       "    }\n",
       "</style>\n",
       "<table border=\"1\" class=\"dataframe\">\n",
       "  <thead>\n",
       "    <tr style=\"text-align: right;\">\n",
       "      <th></th>\n",
       "      <th>Heading_Body</th>\n",
       "      <th>label</th>\n",
       "    </tr>\n",
       "  </thead>\n",
       "  <tbody>\n",
       "    <tr>\n",
       "      <td>0</td>\n",
       "      <td>here are 10 babylon bee jokes explained just i...</td>\n",
       "      <td>satire</td>\n",
       "    </tr>\n",
       "    <tr>\n",
       "      <td>1</td>\n",
       "      <td>pete buttigieg says he cannot come into work a...</td>\n",
       "      <td>satire</td>\n",
       "    </tr>\n",
       "    <tr>\n",
       "      <td>2</td>\n",
       "      <td>instead of kryptonite new lgbtq superman will ...</td>\n",
       "      <td>satire</td>\n",
       "    </tr>\n",
       "    <tr>\n",
       "      <td>3</td>\n",
       "      <td>bernie retires as his vision of making the us ...</td>\n",
       "      <td>satire</td>\n",
       "    </tr>\n",
       "    <tr>\n",
       "      <td>4</td>\n",
       "      <td>katie couric admits she edited interview to re...</td>\n",
       "      <td>satire</td>\n",
       "    </tr>\n",
       "    <tr>\n",
       "      <td>...</td>\n",
       "      <td>...</td>\n",
       "      <td>...</td>\n",
       "    </tr>\n",
       "    <tr>\n",
       "      <td>60433</td>\n",
       "      <td>white house open to small changes on corporate...</td>\n",
       "      <td>real</td>\n",
       "    </tr>\n",
       "    <tr>\n",
       "      <td>60434</td>\n",
       "      <td>white house house republicans spar over zika e...</td>\n",
       "      <td>real</td>\n",
       "    </tr>\n",
       "    <tr>\n",
       "      <td>60435</td>\n",
       "      <td>australian mp resigns over dual nationality in...</td>\n",
       "      <td>real</td>\n",
       "    </tr>\n",
       "    <tr>\n",
       "      <td>60436</td>\n",
       "      <td>lawsuit against trump model agency dismissed b...</td>\n",
       "      <td>real</td>\n",
       "    </tr>\n",
       "    <tr>\n",
       "      <td>60437</td>\n",
       "      <td>chelsea clinton to receive ’lifetime impact aw...</td>\n",
       "      <td>real</td>\n",
       "    </tr>\n",
       "  </tbody>\n",
       "</table>\n",
       "<p>60438 rows × 2 columns</p>\n",
       "</div>"
      ],
      "text/plain": [
       "                                            Heading_Body   label\n",
       "0      here are 10 babylon bee jokes explained just i...  satire\n",
       "1      pete buttigieg says he cannot come into work a...  satire\n",
       "2      instead of kryptonite new lgbtq superman will ...  satire\n",
       "3      bernie retires as his vision of making the us ...  satire\n",
       "4      katie couric admits she edited interview to re...  satire\n",
       "...                                                  ...     ...\n",
       "60433  white house open to small changes on corporate...    real\n",
       "60434  white house house republicans spar over zika e...    real\n",
       "60435  australian mp resigns over dual nationality in...    real\n",
       "60436  lawsuit against trump model agency dismissed b...    real\n",
       "60437  chelsea clinton to receive ’lifetime impact aw...    real\n",
       "\n",
       "[60438 rows x 2 columns]"
      ]
     },
     "execution_count": 14,
     "metadata": {},
     "output_type": "execute_result"
    }
   ],
   "source": [
    "combined"
   ]
  },
  {
   "cell_type": "code",
   "execution_count": 17,
   "metadata": {},
   "outputs": [],
   "source": [
    "import nltk\n",
    "\n",
    "separate['token_heading'] = separate['Heading'].apply(lambda row: nltk.word_tokenize(row))"
   ]
  },
  {
   "cell_type": "code",
   "execution_count": 19,
   "metadata": {},
   "outputs": [],
   "source": [
    "separate['token_body'] = separate['Body'].apply(lambda row: nltk.word_tokenize(row))"
   ]
  },
  {
   "cell_type": "code",
   "execution_count": 20,
   "metadata": {},
   "outputs": [],
   "source": [
    "combined['token_heading_body'] = combined['Heading_Body'].apply(lambda row: nltk.word_tokenize(row))"
   ]
  },
  {
   "cell_type": "code",
   "execution_count": 23,
   "metadata": {},
   "outputs": [],
   "source": [
    "separate['heading_len'] = separate['token_heading'].apply(lambda row: len(row))\n",
    "separate['body_len'] = separate['token_body'].apply(lambda row: len(row))\n",
    "combined['heading_body_len'] = combined['token_heading_body'].apply(lambda row: len(row))"
   ]
  },
  {
   "cell_type": "code",
   "execution_count": 26,
   "metadata": {},
   "outputs": [
    {
     "data": {
      "text/plain": [
       "count    60438.000000\n",
       "mean        12.458999\n",
       "std          5.823390\n",
       "min          0.000000\n",
       "25%          9.000000\n",
       "50%         12.000000\n",
       "75%         15.000000\n",
       "max        693.000000\n",
       "Name: heading_len, dtype: float64"
      ]
     },
     "execution_count": 26,
     "metadata": {},
     "output_type": "execute_result"
    }
   ],
   "source": [
    "separate['heading_len'].describe()"
   ]
  },
  {
   "cell_type": "code",
   "execution_count": 27,
   "metadata": {},
   "outputs": [
    {
     "data": {
      "text/plain": [
       "count    60438.000000\n",
       "mean       450.765280\n",
       "std        563.585989\n",
       "min          0.000000\n",
       "25%        189.000000\n",
       "50%        297.000000\n",
       "75%        518.000000\n",
       "max      25178.000000\n",
       "Name: body_len, dtype: float64"
      ]
     },
     "execution_count": 27,
     "metadata": {},
     "output_type": "execute_result"
    }
   ],
   "source": [
    "separate['body_len'].describe()"
   ]
  },
  {
   "cell_type": "code",
   "execution_count": 28,
   "metadata": {},
   "outputs": [],
   "source": [
    "satire = separate[separate.label == 'satire']"
   ]
  },
  {
   "cell_type": "code",
   "execution_count": 29,
   "metadata": {},
   "outputs": [
    {
     "data": {
      "text/plain": [
       "count    20146.000000\n",
       "mean        11.554601\n",
       "std          7.356728\n",
       "min          1.000000\n",
       "25%          8.000000\n",
       "50%         11.000000\n",
       "75%         14.000000\n",
       "max        693.000000\n",
       "Name: heading_len, dtype: float64"
      ]
     },
     "execution_count": 29,
     "metadata": {},
     "output_type": "execute_result"
    }
   ],
   "source": [
    "satire['heading_len'].describe()"
   ]
  },
  {
   "cell_type": "code",
   "execution_count": 30,
   "metadata": {},
   "outputs": [
    {
     "data": {
      "text/plain": [
       "count    20146.000000\n",
       "mean       232.521692\n",
       "std        146.651597\n",
       "min          0.000000\n",
       "25%        174.000000\n",
       "50%        210.000000\n",
       "75%        255.000000\n",
       "max       8457.000000\n",
       "Name: body_len, dtype: float64"
      ]
     },
     "execution_count": 30,
     "metadata": {},
     "output_type": "execute_result"
    }
   ],
   "source": [
    "satire['body_len'].describe()"
   ]
  },
  {
   "cell_type": "code",
   "execution_count": 31,
   "metadata": {},
   "outputs": [],
   "source": [
    "real = separate[separate.label == 'real']"
   ]
  },
  {
   "cell_type": "code",
   "execution_count": 32,
   "metadata": {},
   "outputs": [
    {
     "data": {
      "text/plain": [
       "count    20146.000000\n",
       "mean        11.148814\n",
       "std          3.036322\n",
       "min          2.000000\n",
       "25%          9.000000\n",
       "50%         11.000000\n",
       "75%         13.000000\n",
       "max         32.000000\n",
       "Name: heading_len, dtype: float64"
      ]
     },
     "execution_count": 32,
     "metadata": {},
     "output_type": "execute_result"
    }
   ],
   "source": [
    "real['heading_len'].describe()"
   ]
  },
  {
   "cell_type": "code",
   "execution_count": 33,
   "metadata": {},
   "outputs": [
    {
     "data": {
      "text/plain": [
       "count    20146.000000\n",
       "mean       601.239402\n",
       "std        603.523952\n",
       "min          0.000000\n",
       "25%        246.000000\n",
       "50%        438.000000\n",
       "75%        814.000000\n",
       "max      15435.000000\n",
       "Name: body_len, dtype: float64"
      ]
     },
     "execution_count": 33,
     "metadata": {},
     "output_type": "execute_result"
    }
   ],
   "source": [
    "real['body_len'].describe()"
   ]
  },
  {
   "cell_type": "code",
   "execution_count": 35,
   "metadata": {},
   "outputs": [],
   "source": [
    "separate.to_csv('separate_no_punc_token.csv', index=False)"
   ]
  },
  {
   "cell_type": "code",
   "execution_count": 36,
   "metadata": {},
   "outputs": [],
   "source": [
    "combined.to_csv('combined_no_punc_token.csv', index=False)"
   ]
  },
  {
   "cell_type": "code",
   "execution_count": 38,
   "metadata": {},
   "outputs": [
    {
     "data": {
      "text/plain": [
       "0        [from, the, atlantic, to, the, pacific, a, lot...\n",
       "1        [washington, dc—with, catastrophic, labor, sho...\n",
       "2        [burbank, ca—the, brilliant, and, courageous, ...\n",
       "3        [burlington, vt—bernie, sanders, has, retired,...\n",
       "4        [us—katie, couric, has, admitted, to, editing,...\n",
       "                               ...                        \n",
       "60433    [washington, reuters, the, white, house, is, w...\n",
       "60434    [washington, reuters, the, white, house, said,...\n",
       "60435    [sydney, reuters, australia, s, prime, ministe...\n",
       "60436    [this, story, corrects, date, of, election, to...\n",
       "60437    [chelsea, clinton, will, receive, a, “, lifeti...\n",
       "Name: token_body, Length: 60438, dtype: object"
      ]
     },
     "execution_count": 38,
     "metadata": {},
     "output_type": "execute_result"
    }
   ],
   "source": [
    "separate['token_body']"
   ]
  },
  {
   "cell_type": "code",
   "execution_count": 42,
   "metadata": {},
   "outputs": [],
   "source": [
    "from collections import Counter\n",
    "counter = Counter()\n",
    "for body in combined.Heading_Body:\n",
    "    counter.update(body.split())"
   ]
  },
  {
   "cell_type": "code",
   "execution_count": 47,
   "metadata": {},
   "outputs": [
    {
     "name": "stdout",
     "output_type": "stream",
     "text": [
      "125163\n"
     ]
    }
   ],
   "source": [
    "print(len(Counter({k: c for k, c in counter.items() if c >= 3})))"
   ]
  },
  {
   "cell_type": "code",
   "execution_count": 49,
   "metadata": {},
   "outputs": [
    {
     "name": "stdout",
     "output_type": "stream",
     "text": [
      "459300\n"
     ]
    }
   ],
   "source": [
    "print(len(counter))"
   ]
  },
  {
   "cell_type": "code",
   "execution_count": 56,
   "metadata": {},
   "outputs": [],
   "source": [
    "no_punc = pd.read_csv('clean_data_satire_large_no_punc.csv')"
   ]
  },
  {
   "cell_type": "code",
   "execution_count": 57,
   "metadata": {},
   "outputs": [],
   "source": [
    "counter = Counter()\n",
    "for body in no_punc.Heading_Body:\n",
    "    counter.update(body.split())"
   ]
  },
  {
   "cell_type": "code",
   "execution_count": 58,
   "metadata": {},
   "outputs": [
    {
     "data": {
      "text/plain": [
       "0"
      ]
     },
     "execution_count": 58,
     "metadata": {},
     "output_type": "execute_result"
    }
   ],
   "source": [
    "counter['onion']"
   ]
  },
  {
   "cell_type": "code",
   "execution_count": null,
   "metadata": {},
   "outputs": [],
   "source": []
  }
 ],
 "metadata": {
  "interpreter": {
   "hash": "40d3a090f54c6569ab1632332b64b2c03c39dcf918b08424e98f38b5ae0af88f"
  },
  "kernelspec": {
   "display_name": "Python 3.7.4 64-bit (conda)",
   "name": "python3"
  },
  "language_info": {
   "codemirror_mode": {
    "name": "ipython",
    "version": 3
   },
   "file_extension": ".py",
   "mimetype": "text/x-python",
   "name": "python",
   "nbconvert_exporter": "python",
   "pygments_lexer": "ipython3",
   "version": "3.7.4"
  },
  "orig_nbformat": 4
 },
 "nbformat": 4,
 "nbformat_minor": 2
}
