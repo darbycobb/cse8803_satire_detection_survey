{
 "cells": [
  {
   "cell_type": "code",
   "execution_count": 2,
   "source": [
    "import pandas as pd"
   ],
   "outputs": [],
   "metadata": {}
  },
  {
   "cell_type": "code",
   "execution_count": 3,
   "source": [
    "babylon = pd.read_csv('babylonbee_urls.csv', quotechar=\"\\\"\")"
   ],
   "outputs": [],
   "metadata": {}
  },
  {
   "cell_type": "code",
   "execution_count": 4,
   "source": [
    "onion = pd.read_csv('onion_urls_brief.csv')"
   ],
   "outputs": [],
   "metadata": {}
  },
  {
   "cell_type": "code",
   "execution_count": 5,
   "source": [
    "onion = onion.drop_duplicates()"
   ],
   "outputs": [],
   "metadata": {}
  },
  {
   "cell_type": "code",
   "execution_count": 6,
   "source": [
    "spoof_2020 = pd.read_csv('spoof_urls_2020.csv')"
   ],
   "outputs": [],
   "metadata": {}
  },
  {
   "cell_type": "code",
   "execution_count": 7,
   "source": [
    "spoof_2021 = pd.read_csv('spoof_urls_2021.csv')"
   ],
   "outputs": [],
   "metadata": {}
  },
  {
   "cell_type": "code",
   "execution_count": 8,
   "source": [
    "satire = pd.concat([babylon, onion, spoof_2020, spoof_2021])"
   ],
   "outputs": [],
   "metadata": {}
  },
  {
   "cell_type": "code",
   "execution_count": 9,
   "source": [
    "wel = pd.read_csv('../data/WELFake_Dataset.csv')"
   ],
   "outputs": [],
   "metadata": {}
  },
  {
   "cell_type": "code",
   "execution_count": 10,
   "source": [
    "wel = wel.dropna()"
   ],
   "outputs": [],
   "metadata": {}
  },
  {
   "cell_type": "code",
   "execution_count": 11,
   "source": [
    "wel[wel['text'].str.contains('Reuters')]"
   ],
   "outputs": [
    {
     "output_type": "execute_result",
     "data": {
      "text/html": [
       "<div>\n",
       "<style scoped>\n",
       "    .dataframe tbody tr th:only-of-type {\n",
       "        vertical-align: middle;\n",
       "    }\n",
       "\n",
       "    .dataframe tbody tr th {\n",
       "        vertical-align: top;\n",
       "    }\n",
       "\n",
       "    .dataframe thead th {\n",
       "        text-align: right;\n",
       "    }\n",
       "</style>\n",
       "<table border=\"1\" class=\"dataframe\">\n",
       "  <thead>\n",
       "    <tr style=\"text-align: right;\">\n",
       "      <th></th>\n",
       "      <th>Unnamed: 0</th>\n",
       "      <th>title</th>\n",
       "      <th>text</th>\n",
       "      <th>label</th>\n",
       "    </tr>\n",
       "  </thead>\n",
       "  <tbody>\n",
       "    <tr>\n",
       "      <td>11</td>\n",
       "      <td>11</td>\n",
       "      <td>May Brexit offer would hurt, cost EU citizens ...</td>\n",
       "      <td>BRUSSELS (Reuters) - British Prime Minister Th...</td>\n",
       "      <td>0</td>\n",
       "    </tr>\n",
       "    <tr>\n",
       "      <td>12</td>\n",
       "      <td>12</td>\n",
       "      <td>Schumer calls on Trump to appoint official to ...</td>\n",
       "      <td>WASHINGTON (Reuters) - Charles Schumer, the to...</td>\n",
       "      <td>0</td>\n",
       "    </tr>\n",
       "    <tr>\n",
       "      <td>15</td>\n",
       "      <td>15</td>\n",
       "      <td>Billionaire Odebrecht in Brazil scandal releas...</td>\n",
       "      <td>RIO DE JANEIRO/SAO PAULO (Reuters) - Billionai...</td>\n",
       "      <td>0</td>\n",
       "    </tr>\n",
       "    <tr>\n",
       "      <td>17</td>\n",
       "      <td>17</td>\n",
       "      <td>U.N. seeks humanitarian pause in Sanaa where s...</td>\n",
       "      <td>GENEVA (Reuters) - The United Nations called o...</td>\n",
       "      <td>0</td>\n",
       "    </tr>\n",
       "    <tr>\n",
       "      <td>19</td>\n",
       "      <td>19</td>\n",
       "      <td>Second judge says Clinton email setup may have...</td>\n",
       "      <td>NEW YORK (Reuters) - A second federal judge ha...</td>\n",
       "      <td>0</td>\n",
       "    </tr>\n",
       "    <tr>\n",
       "      <td>...</td>\n",
       "      <td>...</td>\n",
       "      <td>...</td>\n",
       "      <td>...</td>\n",
       "      <td>...</td>\n",
       "    </tr>\n",
       "    <tr>\n",
       "      <td>72112</td>\n",
       "      <td>72112</td>\n",
       "      <td>United States and Cuba complete deals as Trump...</td>\n",
       "      <td>HAVANA (Reuters) - The Obama administration an...</td>\n",
       "      <td>0</td>\n",
       "    </tr>\n",
       "    <tr>\n",
       "      <td>72120</td>\n",
       "      <td>72120</td>\n",
       "      <td>North Korea's Kim congratulates China's Xi aft...</td>\n",
       "      <td>SEOUL (Reuters) - North Korean leader Kim Jong...</td>\n",
       "      <td>0</td>\n",
       "    </tr>\n",
       "    <tr>\n",
       "      <td>72122</td>\n",
       "      <td>72122</td>\n",
       "      <td>Swiss stop seizing income from asylum seekers ...</td>\n",
       "      <td>ZURICH (Reuters) - Switzerland will stop seizi...</td>\n",
       "      <td>0</td>\n",
       "    </tr>\n",
       "    <tr>\n",
       "      <td>72129</td>\n",
       "      <td>72129</td>\n",
       "      <td>Russians steal research on Trump in hack of U....</td>\n",
       "      <td>WASHINGTON (Reuters) - Hackers believed to be ...</td>\n",
       "      <td>0</td>\n",
       "    </tr>\n",
       "    <tr>\n",
       "      <td>72132</td>\n",
       "      <td>72132</td>\n",
       "      <td>Trump tussle gives unpopular Mexican leader mu...</td>\n",
       "      <td>MEXICO CITY (Reuters) - Donald Trump’s combati...</td>\n",
       "      <td>0</td>\n",
       "    </tr>\n",
       "  </tbody>\n",
       "</table>\n",
       "<p>22232 rows × 4 columns</p>\n",
       "</div>"
      ],
      "text/plain": [
       "       Unnamed: 0                                              title  \\\n",
       "11             11  May Brexit offer would hurt, cost EU citizens ...   \n",
       "12             12  Schumer calls on Trump to appoint official to ...   \n",
       "15             15  Billionaire Odebrecht in Brazil scandal releas...   \n",
       "17             17  U.N. seeks humanitarian pause in Sanaa where s...   \n",
       "19             19  Second judge says Clinton email setup may have...   \n",
       "...           ...                                                ...   \n",
       "72112       72112  United States and Cuba complete deals as Trump...   \n",
       "72120       72120  North Korea's Kim congratulates China's Xi aft...   \n",
       "72122       72122  Swiss stop seizing income from asylum seekers ...   \n",
       "72129       72129  Russians steal research on Trump in hack of U....   \n",
       "72132       72132  Trump tussle gives unpopular Mexican leader mu...   \n",
       "\n",
       "                                                    text  label  \n",
       "11     BRUSSELS (Reuters) - British Prime Minister Th...      0  \n",
       "12     WASHINGTON (Reuters) - Charles Schumer, the to...      0  \n",
       "15     RIO DE JANEIRO/SAO PAULO (Reuters) - Billionai...      0  \n",
       "17     GENEVA (Reuters) - The United Nations called o...      0  \n",
       "19     NEW YORK (Reuters) - A second federal judge ha...      0  \n",
       "...                                                  ...    ...  \n",
       "72112  HAVANA (Reuters) - The Obama administration an...      0  \n",
       "72120  SEOUL (Reuters) - North Korean leader Kim Jong...      0  \n",
       "72122  ZURICH (Reuters) - Switzerland will stop seizi...      0  \n",
       "72129  WASHINGTON (Reuters) - Hackers believed to be ...      0  \n",
       "72132  MEXICO CITY (Reuters) - Donald Trump’s combati...      0  \n",
       "\n",
       "[22232 rows x 4 columns]"
      ]
     },
     "metadata": {},
     "execution_count": 11
    }
   ],
   "metadata": {}
  },
  {
   "cell_type": "code",
   "execution_count": 12,
   "source": [
    "fake_wel = wel[wel['label'] == 1]\n",
    "real_wel = wel[wel['label'] == 0]"
   ],
   "outputs": [],
   "metadata": {}
  },
  {
   "cell_type": "code",
   "execution_count": 13,
   "source": [
    "small_real = real_wel.sample(n=12500, random_state=1123456)\n",
    "small_fake = fake_wel.sample(n=12500, random_state=1123456)"
   ],
   "outputs": [],
   "metadata": {}
  },
  {
   "cell_type": "code",
   "execution_count": 14,
   "source": [
    "satire['label'] = 'satire'"
   ],
   "outputs": [],
   "metadata": {}
  },
  {
   "cell_type": "code",
   "execution_count": 15,
   "source": [
    "small_real['label'] = 'real'"
   ],
   "outputs": [],
   "metadata": {}
  },
  {
   "cell_type": "code",
   "execution_count": 16,
   "source": [
    "small_fake['label'] = 'fake'"
   ],
   "outputs": [],
   "metadata": {}
  },
  {
   "cell_type": "code",
   "execution_count": 17,
   "source": [
    "small_real.rename(columns={'title' : 'Heading', 'text' : 'Body'}, inplace=True)"
   ],
   "outputs": [],
   "metadata": {}
  },
  {
   "cell_type": "code",
   "execution_count": 18,
   "source": [
    "small_fake.rename(columns={'title' : 'Heading', 'text' : 'Body'}, inplace=True)"
   ],
   "outputs": [],
   "metadata": {}
  },
  {
   "cell_type": "code",
   "execution_count": 19,
   "source": [
    "satire_final = satire[['Heading', 'Body', 'label']]\n",
    "fake_final = small_fake[['Heading', 'Body', 'label']]\n",
    "real_final = small_real[['Heading', 'Body', 'label']]"
   ],
   "outputs": [],
   "metadata": {}
  },
  {
   "cell_type": "code",
   "execution_count": 20,
   "source": [
    "final_data = pd.concat([satire_final, fake_final, real_final])"
   ],
   "outputs": [],
   "metadata": {}
  },
  {
   "cell_type": "code",
   "execution_count": 21,
   "source": [
    "final_data['Heading_Body'] = final_data[['Heading', 'Body']].apply(lambda row: ' '.join(row.values.astype(str)), axis=1)"
   ],
   "outputs": [],
   "metadata": {}
  },
  {
   "cell_type": "code",
   "execution_count": 22,
   "source": [
    "final_data[['Heading', 'Body', 'label']].to_csv('final_data_separate.csv', index=False)\n",
    "final_data[['Heading_Body', 'label']].to_csv('final_data_combined.csv', index=False)"
   ],
   "outputs": [],
   "metadata": {}
  },
  {
   "cell_type": "code",
   "execution_count": 23,
   "source": [
    "from collections import Counter\n",
    "# Create Vocabulary\n",
    "counter = Counter()\n",
    "for comment in final_data.Heading_Body:\n",
    "    counter.update(comment.split())"
   ],
   "outputs": [],
   "metadata": {}
  },
  {
   "cell_type": "code",
   "execution_count": 41,
   "source": [
    "clean_final_data = final_data[['Heading_Body', 'label']]\n"
   ],
   "outputs": [],
   "metadata": {}
  },
  {
   "cell_type": "code",
   "execution_count": 42,
   "source": [
    "clean_final_data['Heading_Body']"
   ],
   "outputs": [
    {
     "output_type": "execute_result",
     "data": {
      "text/plain": [
       "0        Here Are 10 Babylon Bee Jokes Explained (Just ...\n",
       "1        Pete Buttigieg Says He Cannot Come Into Work A...\n",
       "2        Instead Of Kryptonite, New LGBTQ+ Superman Wil...\n",
       "3        Bernie Retires As His Vision Of Making The U.S...\n",
       "4        Katie Couric Admits She Edited Interview To Re...\n",
       "                               ...                        \n",
       "46449    British ministers rally around Foreign Secreta...\n",
       "8765     Mexicans on U.S. border fear economic catastro...\n",
       "23563    Let’s dispel with this notion that Donald Trum...\n",
       "66773    Explosions rock Myanmar area near Bangladesh b...\n",
       "61764    Comedy Central Launches Late-Night Trump-Mocki...\n",
       "Name: Heading_Body, Length: 37504, dtype: object"
      ]
     },
     "metadata": {},
     "execution_count": 42
    }
   ],
   "metadata": {}
  },
  {
   "cell_type": "code",
   "execution_count": 51,
   "source": [
    "import re\n",
    "# Convert to lowercase\n",
    "clean_final_data = clean_final_data.applymap(lambda s: s.lower())\n",
    "# Fix Contractions\n",
    "contraction_dict = {\"ain't\": \"is not\", \"aren't\": \"are not\",\"can't\": \"cannot\", \"'cause\": \"because\", \"could've\": \"could have\", \"couldn't\": \"could not\", \"didn't\": \"did not\",  \"doesn't\": \"does not\", \"don't\": \"do not\", \"hadn't\": \"had not\", \"hasn't\": \"has not\", \"haven't\": \"have not\", \"he'd\": \"he would\",\"he'll\": \"he will\", \"he's\": \"he is\", \"how'd\": \"how did\", \"how'd'y\": \"how do you\", \"how'll\": \"how will\", \"how's\": \"how is\",  \"I'd\": \"I would\", \"I'd've\": \"I would have\", \"I'll\": \"I will\", \"I'll've\": \"I will have\",\"I'm\": \"I am\", \"I've\": \"I have\", \"i'd\": \"i would\", \"i'd've\": \"i would have\", \"i'll\": \"i will\",  \"i'll've\": \"i will have\",\"i'm\": \"i am\", \"i've\": \"i have\", \"isn't\": \"is not\", \"it'd\": \"it would\", \"it'd've\": \"it would have\", \"it'll\": \"it will\", \"it'll've\": \"it will have\",\"it's\": \"it is\", \"let's\": \"let us\", \"ma'am\": \"madam\", \"mayn't\": \"may not\", \"might've\": \"might have\",\"mightn't\": \"might not\",\"mightn't've\": \"might not have\", \"must've\": \"must have\", \"mustn't\": \"must not\", \"mustn't've\": \"must not have\", \"needn't\": \"need not\", \"needn't've\": \"need not have\",\"o'clock\": \"of the clock\", \"oughtn't\": \"ought not\", \"oughtn't've\": \"ought not have\", \"shan't\": \"shall not\", \"sha'n't\": \"shall not\", \"shan't've\": \"shall not have\", \"she'd\": \"she would\", \"she'd've\": \"she would have\", \"she'll\": \"she will\", \"she'll've\": \"she will have\", \"she's\": \"she is\", \"should've\": \"should have\", \"shouldn't\": \"should not\", \"shouldn't've\": \"should not have\", \"so've\": \"so have\",\"so's\": \"so as\", \"this's\": \"this is\",\"that'd\": \"that would\", \"that'd've\": \"that would have\", \"that's\": \"that is\", \"there'd\": \"there would\", \"there'd've\": \"there would have\", \"there's\": \"there is\", \"here's\": \"here is\",\"they'd\": \"they would\", \"they'd've\": \"they would have\", \"they'll\": \"they will\", \"they'll've\": \"they will have\", \"they're\": \"they are\", \"they've\": \"they have\", \"to've\": \"to have\", \"wasn't\": \"was not\", \"we'd\": \"we would\", \"we'd've\": \"we would have\", \"we'll\": \"we will\", \"we'll've\": \"we will have\", \"we're\": \"we are\", \"we've\": \"we have\", \"weren't\": \"were not\", \"what'll\": \"what will\", \"what'll've\": \"what will have\", \"what're\": \"what are\",  \"what's\": \"what is\", \"what've\": \"what have\", \"when's\": \"when is\", \"when've\": \"when have\", \"where'd\": \"where did\", \"where's\": \"where is\", \"where've\": \"where have\", \"who'll\": \"who will\", \"who'll've\": \"who will have\", \"who's\": \"who is\", \"who've\": \"who have\", \"why's\": \"why is\", \"why've\": \"why have\", \"will've\": \"will have\", \"won't\": \"will not\", \"won't've\": \"will not have\", \"would've\": \"would have\", \"wouldn't\": \"would not\", \"wouldn't've\": \"would not have\", \"y'all\": \"you all\", \"y'all'd\": \"you all would\",\"y'all'd've\": \"you all would have\",\"y'all're\": \"you all are\",\"y'all've\": \"you all have\",\"you'd\": \"you would\", \"you'd've\": \"you would have\", \"you'll\": \"you will\", \"you'll've\": \"you will have\", \"you're\": \"you are\", \"you've\": \"you have\"}\n",
    "\n",
    "def _get_contractions(contraction_dict):\n",
    "    contraction_re = re.compile('(%s)' % '|'.join(contraction_dict.keys()))\n",
    "    return contraction_dict, contraction_re\n",
    "\n",
    "contractions, contractions_re = _get_contractions(contraction_dict)\n",
    "\n",
    "def replace_contractions(text):\n",
    "    def replace(match):\n",
    "        return contractions[match.group(0)]\n",
    "    return contractions_re.sub(replace, text)\n",
    "#clean_final_data.loc['Heading_Body'] = clean_final_data['Heading_Body'].apply(replace_contractions)\n",
    "\n",
    "import string\n",
    "# Remove Puncuation\n",
    "def remove_punc(s):\n",
    "    table = str.maketrans(dict.fromkeys(string.punctuation))  # OR {key: None for key in string.punctuation}\n",
    "    new_s = s.translate(table)\n",
    "\n",
    "clean_final_data = clean_final_data.apply(lambda s: s.translate(str.maketrans('', '', string.punctuation)), axis=1)\n",
    "# Remove references to Babylon Bee, The Onion, Satire\n"
   ],
   "outputs": [
    {
     "output_type": "error",
     "ename": "AttributeError",
     "evalue": "(\"'Series' object has no attribute 'translate'\", 'occurred at index 0')",
     "traceback": [
      "\u001b[0;31m---------------------------------------------------------------------------\u001b[0m",
      "\u001b[0;31mAttributeError\u001b[0m                            Traceback (most recent call last)",
      "\u001b[0;32m<ipython-input-51-beec707b9bee>\u001b[0m in \u001b[0;36m<module>\u001b[0;34m\u001b[0m\n\u001b[1;32m     22\u001b[0m     \u001b[0;32mreturn\u001b[0m \u001b[0mtext\u001b[0m\u001b[0;34m.\u001b[0m\u001b[0mtranslate\u001b[0m\u001b[0;34m(\u001b[0m\u001b[0mstr\u001b[0m\u001b[0;34m.\u001b[0m\u001b[0mmaketrans\u001b[0m\u001b[0;34m(\u001b[0m\u001b[0;34m''\u001b[0m\u001b[0;34m,\u001b[0m \u001b[0;34m''\u001b[0m\u001b[0;34m,\u001b[0m \u001b[0mstring\u001b[0m\u001b[0;34m.\u001b[0m\u001b[0mpunctuation\u001b[0m\u001b[0;34m)\u001b[0m\u001b[0;34m)\u001b[0m\u001b[0;34m\u001b[0m\u001b[0;34m\u001b[0m\u001b[0m\n\u001b[1;32m     23\u001b[0m \u001b[0;34m\u001b[0m\u001b[0m\n\u001b[0;32m---> 24\u001b[0;31m \u001b[0mclean_final_data\u001b[0m \u001b[0;34m=\u001b[0m \u001b[0mclean_final_data\u001b[0m\u001b[0;34m.\u001b[0m\u001b[0mapply\u001b[0m\u001b[0;34m(\u001b[0m\u001b[0;32mlambda\u001b[0m \u001b[0ms\u001b[0m\u001b[0;34m:\u001b[0m \u001b[0ms\u001b[0m\u001b[0;34m.\u001b[0m\u001b[0mtranslate\u001b[0m\u001b[0;34m(\u001b[0m\u001b[0mstr\u001b[0m\u001b[0;34m.\u001b[0m\u001b[0mmaketrans\u001b[0m\u001b[0;34m(\u001b[0m\u001b[0;34m''\u001b[0m\u001b[0;34m,\u001b[0m \u001b[0;34m''\u001b[0m\u001b[0;34m,\u001b[0m \u001b[0mstring\u001b[0m\u001b[0;34m.\u001b[0m\u001b[0mpunctuation\u001b[0m\u001b[0;34m)\u001b[0m\u001b[0;34m)\u001b[0m\u001b[0;34m,\u001b[0m \u001b[0maxis\u001b[0m\u001b[0;34m=\u001b[0m\u001b[0;36m1\u001b[0m\u001b[0;34m)\u001b[0m\u001b[0;34m\u001b[0m\u001b[0;34m\u001b[0m\u001b[0m\n\u001b[0m\u001b[1;32m     25\u001b[0m \u001b[0;31m# Remove references to Babylon Bee, The Onion, Satire\u001b[0m\u001b[0;34m\u001b[0m\u001b[0;34m\u001b[0m\u001b[0;34m\u001b[0m\u001b[0m\n",
      "\u001b[0;32m/opt/anaconda3/lib/python3.7/site-packages/pandas/core/frame.py\u001b[0m in \u001b[0;36mapply\u001b[0;34m(self, func, axis, broadcast, raw, reduce, result_type, args, **kwds)\u001b[0m\n\u001b[1;32m   6911\u001b[0m             \u001b[0mkwds\u001b[0m\u001b[0;34m=\u001b[0m\u001b[0mkwds\u001b[0m\u001b[0;34m,\u001b[0m\u001b[0;34m\u001b[0m\u001b[0;34m\u001b[0m\u001b[0m\n\u001b[1;32m   6912\u001b[0m         )\n\u001b[0;32m-> 6913\u001b[0;31m         \u001b[0;32mreturn\u001b[0m \u001b[0mop\u001b[0m\u001b[0;34m.\u001b[0m\u001b[0mget_result\u001b[0m\u001b[0;34m(\u001b[0m\u001b[0;34m)\u001b[0m\u001b[0;34m\u001b[0m\u001b[0;34m\u001b[0m\u001b[0m\n\u001b[0m\u001b[1;32m   6914\u001b[0m \u001b[0;34m\u001b[0m\u001b[0m\n\u001b[1;32m   6915\u001b[0m     \u001b[0;32mdef\u001b[0m \u001b[0mapplymap\u001b[0m\u001b[0;34m(\u001b[0m\u001b[0mself\u001b[0m\u001b[0;34m,\u001b[0m \u001b[0mfunc\u001b[0m\u001b[0;34m)\u001b[0m\u001b[0;34m:\u001b[0m\u001b[0;34m\u001b[0m\u001b[0;34m\u001b[0m\u001b[0m\n",
      "\u001b[0;32m/opt/anaconda3/lib/python3.7/site-packages/pandas/core/apply.py\u001b[0m in \u001b[0;36mget_result\u001b[0;34m(self)\u001b[0m\n\u001b[1;32m    184\u001b[0m             \u001b[0;32mreturn\u001b[0m \u001b[0mself\u001b[0m\u001b[0;34m.\u001b[0m\u001b[0mapply_raw\u001b[0m\u001b[0;34m(\u001b[0m\u001b[0;34m)\u001b[0m\u001b[0;34m\u001b[0m\u001b[0;34m\u001b[0m\u001b[0m\n\u001b[1;32m    185\u001b[0m \u001b[0;34m\u001b[0m\u001b[0m\n\u001b[0;32m--> 186\u001b[0;31m         \u001b[0;32mreturn\u001b[0m \u001b[0mself\u001b[0m\u001b[0;34m.\u001b[0m\u001b[0mapply_standard\u001b[0m\u001b[0;34m(\u001b[0m\u001b[0;34m)\u001b[0m\u001b[0;34m\u001b[0m\u001b[0;34m\u001b[0m\u001b[0m\n\u001b[0m\u001b[1;32m    187\u001b[0m \u001b[0;34m\u001b[0m\u001b[0m\n\u001b[1;32m    188\u001b[0m     \u001b[0;32mdef\u001b[0m \u001b[0mapply_empty_result\u001b[0m\u001b[0;34m(\u001b[0m\u001b[0mself\u001b[0m\u001b[0;34m)\u001b[0m\u001b[0;34m:\u001b[0m\u001b[0;34m\u001b[0m\u001b[0;34m\u001b[0m\u001b[0m\n",
      "\u001b[0;32m/opt/anaconda3/lib/python3.7/site-packages/pandas/core/apply.py\u001b[0m in \u001b[0;36mapply_standard\u001b[0;34m(self)\u001b[0m\n\u001b[1;32m    290\u001b[0m \u001b[0;34m\u001b[0m\u001b[0m\n\u001b[1;32m    291\u001b[0m         \u001b[0;31m# compute the result using the series generator\u001b[0m\u001b[0;34m\u001b[0m\u001b[0;34m\u001b[0m\u001b[0;34m\u001b[0m\u001b[0m\n\u001b[0;32m--> 292\u001b[0;31m         \u001b[0mself\u001b[0m\u001b[0;34m.\u001b[0m\u001b[0mapply_series_generator\u001b[0m\u001b[0;34m(\u001b[0m\u001b[0;34m)\u001b[0m\u001b[0;34m\u001b[0m\u001b[0;34m\u001b[0m\u001b[0m\n\u001b[0m\u001b[1;32m    293\u001b[0m \u001b[0;34m\u001b[0m\u001b[0m\n\u001b[1;32m    294\u001b[0m         \u001b[0;31m# wrap results\u001b[0m\u001b[0;34m\u001b[0m\u001b[0;34m\u001b[0m\u001b[0;34m\u001b[0m\u001b[0m\n",
      "\u001b[0;32m/opt/anaconda3/lib/python3.7/site-packages/pandas/core/apply.py\u001b[0m in \u001b[0;36mapply_series_generator\u001b[0;34m(self)\u001b[0m\n\u001b[1;32m    319\u001b[0m             \u001b[0;32mtry\u001b[0m\u001b[0;34m:\u001b[0m\u001b[0;34m\u001b[0m\u001b[0;34m\u001b[0m\u001b[0m\n\u001b[1;32m    320\u001b[0m                 \u001b[0;32mfor\u001b[0m \u001b[0mi\u001b[0m\u001b[0;34m,\u001b[0m \u001b[0mv\u001b[0m \u001b[0;32min\u001b[0m \u001b[0menumerate\u001b[0m\u001b[0;34m(\u001b[0m\u001b[0mseries_gen\u001b[0m\u001b[0;34m)\u001b[0m\u001b[0;34m:\u001b[0m\u001b[0;34m\u001b[0m\u001b[0;34m\u001b[0m\u001b[0m\n\u001b[0;32m--> 321\u001b[0;31m                     \u001b[0mresults\u001b[0m\u001b[0;34m[\u001b[0m\u001b[0mi\u001b[0m\u001b[0;34m]\u001b[0m \u001b[0;34m=\u001b[0m \u001b[0mself\u001b[0m\u001b[0;34m.\u001b[0m\u001b[0mf\u001b[0m\u001b[0;34m(\u001b[0m\u001b[0mv\u001b[0m\u001b[0;34m)\u001b[0m\u001b[0;34m\u001b[0m\u001b[0;34m\u001b[0m\u001b[0m\n\u001b[0m\u001b[1;32m    322\u001b[0m                     \u001b[0mkeys\u001b[0m\u001b[0;34m.\u001b[0m\u001b[0mappend\u001b[0m\u001b[0;34m(\u001b[0m\u001b[0mv\u001b[0m\u001b[0;34m.\u001b[0m\u001b[0mname\u001b[0m\u001b[0;34m)\u001b[0m\u001b[0;34m\u001b[0m\u001b[0;34m\u001b[0m\u001b[0m\n\u001b[1;32m    323\u001b[0m             \u001b[0;32mexcept\u001b[0m \u001b[0mException\u001b[0m \u001b[0;32mas\u001b[0m \u001b[0me\u001b[0m\u001b[0;34m:\u001b[0m\u001b[0;34m\u001b[0m\u001b[0;34m\u001b[0m\u001b[0m\n",
      "\u001b[0;32m<ipython-input-51-beec707b9bee>\u001b[0m in \u001b[0;36m<lambda>\u001b[0;34m(s)\u001b[0m\n\u001b[1;32m     22\u001b[0m     \u001b[0;32mreturn\u001b[0m \u001b[0mtext\u001b[0m\u001b[0;34m.\u001b[0m\u001b[0mtranslate\u001b[0m\u001b[0;34m(\u001b[0m\u001b[0mstr\u001b[0m\u001b[0;34m.\u001b[0m\u001b[0mmaketrans\u001b[0m\u001b[0;34m(\u001b[0m\u001b[0;34m''\u001b[0m\u001b[0;34m,\u001b[0m \u001b[0;34m''\u001b[0m\u001b[0;34m,\u001b[0m \u001b[0mstring\u001b[0m\u001b[0;34m.\u001b[0m\u001b[0mpunctuation\u001b[0m\u001b[0;34m)\u001b[0m\u001b[0;34m)\u001b[0m\u001b[0;34m\u001b[0m\u001b[0;34m\u001b[0m\u001b[0m\n\u001b[1;32m     23\u001b[0m \u001b[0;34m\u001b[0m\u001b[0m\n\u001b[0;32m---> 24\u001b[0;31m \u001b[0mclean_final_data\u001b[0m \u001b[0;34m=\u001b[0m \u001b[0mclean_final_data\u001b[0m\u001b[0;34m.\u001b[0m\u001b[0mapply\u001b[0m\u001b[0;34m(\u001b[0m\u001b[0;32mlambda\u001b[0m \u001b[0ms\u001b[0m\u001b[0;34m:\u001b[0m \u001b[0ms\u001b[0m\u001b[0;34m.\u001b[0m\u001b[0mtranslate\u001b[0m\u001b[0;34m(\u001b[0m\u001b[0mstr\u001b[0m\u001b[0;34m.\u001b[0m\u001b[0mmaketrans\u001b[0m\u001b[0;34m(\u001b[0m\u001b[0;34m''\u001b[0m\u001b[0;34m,\u001b[0m \u001b[0;34m''\u001b[0m\u001b[0;34m,\u001b[0m \u001b[0mstring\u001b[0m\u001b[0;34m.\u001b[0m\u001b[0mpunctuation\u001b[0m\u001b[0;34m)\u001b[0m\u001b[0;34m)\u001b[0m\u001b[0;34m,\u001b[0m \u001b[0maxis\u001b[0m\u001b[0;34m=\u001b[0m\u001b[0;36m1\u001b[0m\u001b[0;34m)\u001b[0m\u001b[0;34m\u001b[0m\u001b[0;34m\u001b[0m\u001b[0m\n\u001b[0m\u001b[1;32m     25\u001b[0m \u001b[0;31m# Remove references to Babylon Bee, The Onion, Satire\u001b[0m\u001b[0;34m\u001b[0m\u001b[0;34m\u001b[0m\u001b[0;34m\u001b[0m\u001b[0m\n",
      "\u001b[0;32m/opt/anaconda3/lib/python3.7/site-packages/pandas/core/generic.py\u001b[0m in \u001b[0;36m__getattr__\u001b[0;34m(self, name)\u001b[0m\n\u001b[1;32m   5177\u001b[0m             \u001b[0;32mif\u001b[0m \u001b[0mself\u001b[0m\u001b[0;34m.\u001b[0m\u001b[0m_info_axis\u001b[0m\u001b[0;34m.\u001b[0m\u001b[0m_can_hold_identifiers_and_holds_name\u001b[0m\u001b[0;34m(\u001b[0m\u001b[0mname\u001b[0m\u001b[0;34m)\u001b[0m\u001b[0;34m:\u001b[0m\u001b[0;34m\u001b[0m\u001b[0;34m\u001b[0m\u001b[0m\n\u001b[1;32m   5178\u001b[0m                 \u001b[0;32mreturn\u001b[0m \u001b[0mself\u001b[0m\u001b[0;34m[\u001b[0m\u001b[0mname\u001b[0m\u001b[0;34m]\u001b[0m\u001b[0;34m\u001b[0m\u001b[0;34m\u001b[0m\u001b[0m\n\u001b[0;32m-> 5179\u001b[0;31m             \u001b[0;32mreturn\u001b[0m \u001b[0mobject\u001b[0m\u001b[0;34m.\u001b[0m\u001b[0m__getattribute__\u001b[0m\u001b[0;34m(\u001b[0m\u001b[0mself\u001b[0m\u001b[0;34m,\u001b[0m \u001b[0mname\u001b[0m\u001b[0;34m)\u001b[0m\u001b[0;34m\u001b[0m\u001b[0;34m\u001b[0m\u001b[0m\n\u001b[0m\u001b[1;32m   5180\u001b[0m \u001b[0;34m\u001b[0m\u001b[0m\n\u001b[1;32m   5181\u001b[0m     \u001b[0;32mdef\u001b[0m \u001b[0m__setattr__\u001b[0m\u001b[0;34m(\u001b[0m\u001b[0mself\u001b[0m\u001b[0;34m,\u001b[0m \u001b[0mname\u001b[0m\u001b[0;34m,\u001b[0m \u001b[0mvalue\u001b[0m\u001b[0;34m)\u001b[0m\u001b[0;34m:\u001b[0m\u001b[0;34m\u001b[0m\u001b[0;34m\u001b[0m\u001b[0m\n",
      "\u001b[0;31mAttributeError\u001b[0m: (\"'Series' object has no attribute 'translate'\", 'occurred at index 0')"
     ]
    }
   ],
   "metadata": {}
  },
  {
   "cell_type": "code",
   "execution_count": 47,
   "source": [
    "lower_case.values"
   ],
   "outputs": [
    {
     "output_type": "execute_result",
     "data": {
      "text/plain": [
       "array(['here are 10 babylon bee jokes explained (just in case you don\\'t get them) from the atlantic to the pacific a lot of people all across the country don\\'t understand babylon bee jokes. that\\'s because we conservative christians are bad at humor. we\\'re nowhere near as funny as leftist humorists like samantha bee and jimmy kimmel.\\xa0so to make sure you understand the headlines at the babylon bee we\\'ve included ten classic bee articles here along with a helpful explanation.ok here we go:explanation: the joke here is that aoc (who is dumb) accidentally strangled herself tying her shoes which is a simple task for most humans\\xa0because she is so stupid. hope this is helpful.explanation: the joke here is that democrats called for flags to be flown at half-mast to grieve the death of general soleimani. get it? a terrorist died and democrats were sad.explanation: this one is a joke that nba players were wearing special lace collars to honor ruth bader ginsburg who had recently passed away. the humor derives from the fact that they are nba players\\xa0wearing lace collars which is humorous.explanation: actually this one\\'s about sports and we aren\\'t really into sports. so we don\\'t understand this one. if you get it please explain it to us in the comments.explanation: the joke here is that celebrities got in their yachts sailed out west of malibu and spelled out \"we\\'re all in this together\" with said yachts. because they are rich (and also stupid).explanation: wait a minute this is real news! this isn\\'t one of ours! how\\'d this get in here? wish we had thought of this one though.explanation:\\xa0the joke here is that bernie tested negative for president because he is not the president. and also is a dumb socialist.explanation: ah nostalgia! a joke back from when the babylon bee told christian jokes. the joke here is that joel osteen sailed his yacht through flooded houston to hand out copies of his book\\xa0your best life now rather than offering help to those in need. classic!explanation: the joke here is that a motorcyclist identified as a bicyclist and subsequently set a cycling world record. because motorcycles are faster than bicycles.explanation: the joke here is that a grown man identified as a six-year-old... hey wait a minute! that\\'s the same joke! get new material bee!we hope you found this helpful. if you liked these jokes preorder our new book the babylon bee guide to wokeness. it is jam-packed with over two jokes!',\n",
       "       'pete buttigieg says he cannot come into work as he is on breastfeeding duty washington d.c.—with catastrophic labor shortages and port congestion bringing america\\'s supply chain to its knees many are wondering if transportation secretary and new mother\\xa0pete buttigieg will ever go back to work and address the problem.\"i would totally come back to work\" said\\xa0buttigieg as he held his new baby \"but i need to take my paternity leave followed by several more months of maternity leave. plus as the twins\\' mother i drew the short straw and got breastfeeding duty! these babies\\xa0are\\xa0keeping me up all hours of the night to breastfeed!\"buttigieg also cited his need for extended bed rest following a difficult labor. \"it really did a number on me\" he said. \"i\\'m still so tired and hormonal and those varicose veins and stretch marks! so many stretch marks!\"sources later confirmed the varicose veins and stretch marks were unrelated to the new babies.the buttigieg\\'s confirmed they are supplementing with infant formula since breastfeeding has proven difficult. \"we thought there might have been a problem when the babies started losing a ton of weight. thankfully our house servant\\xa0maría told us about baby formula which really helps!\"buttigieg has suggested in the meantime that port authorities employ the help of\\xa0theodore tugboat and get some bigger choo-choo trains to help clear the supply chain backlog.',\n",
       "       'instead of kryptonite, new lgbtq+ superman will be crippled by anyone using wrong pronouns burbank ca—the brilliant and courageous writers at dc comics have announced that superman is now gay and his pronouns are they/them as he is also non-binary. now instead of kryptonite he will be rendered completely powerless by anyone who addresses him using the wrong pronouns.\"i\\'ll finally defeat superman!\\xa0he\\'s such a liberal snowflake!\" says\\xa0right-wing transphobe lex luthor to reporters\\xa0in the latest issue.\"noooooooooooooo!\" cries gay superman in response as he withers to the ground in shrieks of agony. \"i\\'m non-binary! it should be \\'they is such a snowflake!\\' eeeeeeeeeeeeeee!\"writers confirmed that gay superman will gay-save the world and gay-stop hate crimes with his gay superpowers. he will be completely impervious to kryptonite but will be powerless against right-wing talk show hosts and trans-exclusionary radical feminist authors. first and foremost he will be very very gay.\"we are so proud to break new ground with this stunning brave totally expected and culturally fashionable change to the superman character\" said writer tom taylor. \"we look forward to selling dozens and dozens of copies.\"',\n",
       "       ...,\n",
       "       'let’s dispel with this notion that donald trump knows what he’s doing donald trump is an unusual candidate who does a lot of unusual things. for example, after flubbing a debate performance in which he appeared volatile, irritable, and uninformed about key issues, he did not attempt to refocus his campaign on proven message points or topics where he has a firm grasp of talking points. instead, he’s been lashing out at alicia machado while using apophasis to bring up bill clinton’s marital infidelity by saying he’s not talking about bill clinton’s marital infidelity.\\n\\nit seems like a bad strategy because it almost certainly is in fact a bad strategy.\\n\\nbut not everyone sees it that way. in certain quarters, there’s a tendency to assume that trump is crazy like a fox.\\n\\njon favreau, barack obama’s chief speechwriter for much of his career in national politics, sees the post-debate binge in that light.\\n\\nken baer, a veteran democratic party operative, even believes that trump’s feud with the khan family was a successful effort to distract attention from a bread-and-butter economic critique of trump.\\n\\nthis view gives trump far too much credit. all available evidence suggests that trump is a poor candidate waging a poor campaign and blowing a very winnable race against a democratic party nominee who is herself relatively weak.\\n\\nthe presumption that trump is performing well is based on a misreading of the underlying fundamentals of the election, and in its own terms arguably does a little bit to boost his electoral fortunes by cloaking his campaign in an undeserved shroud of competence.\\n\\nthe overwhelmingly probable conclusion is that trump does things that don’t seem to make sense because he is a political neophyte who doesn’t know what he is doing.\\n\\nthe core fact about donald trump’s general election campaign is that it’s been singularly ineffective. not only is he down in the polls right now, but he’s been consistently down in the polls for virtually the entire breadth of the campaign.\\n\\nthat doesn’t mean trump “can’t win” or that clinton has nothing to worry about. but it does mean that, as best we can tell, trump started behind and has never really found a way to get ahead. and he’s been losing even though clinton has been viewed more unfavorably than favorably since april, a bad dynamic that set in for her before the democratic primary wrapped up.\\n\\npeople tend to discount the “trump is losing” factor on the grounds that he “should” be doing worse. but this becomes circular — trump’s weakness as a candidate is the only reason to expect him to lose. he is, in fact, losing because he is, in fact, running a bad campaign.\\n\\nthe reality is that the underlying fundamentals of the race — a two-term president leaving office amidst paltry economic growth — favor a republican victory. that’s what vox’s “trump tax” model says, but don’t take our word for it. harry enten at fivethirtyeight thinks the same thing, as does lynn vavreck at the upshot, and john sides at the monkey cage.\\n\\nyet despite favorable fundamentals, trump has been consistently behind in the polls — leading in broad averages only for a couple of days between the two parties’ conventions.\\n\\nnot only has trump been consistently losing despite favorable fundamentals, but he’s been consistently losing despite the luxury of running against an opponent with an underwater favorability rating.\\n\\nconversely, the fundamentals in the 2012 election favored obama. mitt romney did slightly better than might be expected given the fundamentals, and ran ahead of the gop senate nominee in basically every state. that’s about what you would expect if you think of romney as a handsome, telegenic, successful businessperson who governed as a moderate in a blue state before remaking himself as a conventional republican. obama’s attacks on romney seem to have had replacement-level effectiveness at best, and still left romney better regarded than a typical conservative republican.\\n\\none source of confusion is that overall economic conditions are clearly better today than they were four years ago. history teaches us that what matters politically is short-term rates of change, not levels of prosperity.\\n\\neconomic conditions are better in 2016 than they were in 2012. but growth was faster four years ago than it is today, when things seem to have leveled off after a nice 2015.\\n\\nto make a long story short, donald trump is the gop nominee in a year when a generic republican would be favored to beat a generic democrat. rather than running against a generic democrat, he is running against an unusually unpopular democrat. and he is losing.\\n\\nof course, the mere fact that trump’s overall campaign is ineffective doesn’t mean that every particular choice he makes is bad. but it does mean that there’s no particular reason to give him the benefit of the doubt. the big lesson of the 2016 campaign is that the fundamentals matter a lot. the electorate is polarized, and so even a really bad candidate has a high floor.\\n\\nclinton has major weaknesses in terms of weak economic growth and voter fatigue with democratic party leadership (manifesting in 2016 largely in millennial disaffection with clinton, even as young voters eschew trump). these factors keep trump perennially within striking distance; it’s a very winnable election for him. but instead of winning, he is losing. and he has been consistently losing, because he doesn’t know what he’s doing.',\n",
       "       'explosions rock myanmar area near bangladesh border amid rohingya exodus cox s bazar, bangladesh/yangon (reuters) - two blasts rocked an area on the myanmar side of the border with bangladesh on monday, accompanied by the sound of gunfire and thick black smoke, as violence that has sent nearly 90,000 muslim rohingya fleeing to bangladesh showed no sign of easing. bangladeshi border guards said a woman lost a leg from a blast about 50 meters inside myanmar and was carried into bangladesh to get treatment. reuters reporters heard explosions and saw black smoke rising near a myanmar village. the latest violence in myanmar s northwestern rakhine state began on aug. 25, when rohingya insurgents attacked dozens of police posts and an army base. the ensuing clashes and a military counter-offensive have killed at least 400 people and triggered the exodus of villagers to bangladesh. a rohingya refugee who went to the site of the blast - on a footpath near where civilians fleeing violence are huddled in no man s land on the border - filmed what appeared to be a mine: a metal disc about 10 centimeters (3.94 inches) in diameter partially buried in the mud. he said he believed there were two more such devices buried in the ground. bangladeshi border guards said they believed the injured woman stepped on an anti-personnel mine, although that was not confirmed. two refugees also told reuters they saw members of the myanmar army around the site in the immediate period preceding the blasts which occurred around 2:25 p.m.  reuters was unable to independently verify that the planted devices were landmines and that there was any link to the myanmar army. the spokesman for myanmar s national leader aung san suu kyi, zaw htay, said that a clarification was needed to determine  where did it explode, who can go there and who laid those land mines. who can surely say those mines were not laid by the terrorists?   there are so many questions. i would like to say that it is not solid news-writing if you write based on someone talking nonsense on the side of the road,  said zaw htay. the treatment of buddhist-majority myanmar s roughly 1.1 million muslim rohingya is the biggest challenge facing suu kyi, accused by western critics of not speaking out for the minority that has long complained of persecution. the nobel peace prize laureate has come under increasing diplomatic pressure from countries with large muslim populations such as turkey and pakistan to protect rohingya civilians. myanmar says its security forces are fighting a legitimate campaign against  terrorists  responsible for a string of attacks on police posts and the army since last october. on monday, reuters reporters saw fires and heard gunshots before the explosions near the myanmar village of taung pyo let way.  myanmar officials blamed rohingya militants for the burning of homes and civilian deaths but rights monitors and rohingya fleeing to neighboring bangladesh say the myanmar army is trying to force rohingya out with a campaign of arson and killings. the number of those crossing the border into bangladesh - 87,000 - surpassed the number who escaped myanmar after a series of much smaller insurgent attacks last october that set off a military operation. that operation has led to accusations of serious human rights abuses. the newest estimate, based on calculations by u.n. workers in the bangladeshi border district of cox s bazar, takes to about 174,000 the total number of rohingya who have sought refuge in bangladesh since october. the new arrivals have strained aid agencies and communities already helping hundreds of thousands of refugees from previous spasms of violence in myanmar.  we are trying to build houses here, but there isn t enough space,  said mohammed hussein, 25, who was still looking for a place to stay after fleeing myanmar four days ago.  no non-government organizations came here. we have no food. some women gave birth on the roadside. sick children have no treatment.   hundreds of rohingya milled beside the road while others slung tarpaulins over bamboo frames to make shelters against the monsoon rain. among new arrivals, about 16,000 are school-age children and more than 5,000 are under the age of five who need vaccine coverage, aid workers said over the weekend.  turkish president tayyip erdogan, who said on friday that violence against myanmar s muslims amounted to genocide, last week called bangladesh s president abdul hamid to offer help in sheltering the rohingya, dhaka said. indonesian foreign minister retno marsudi met suu kyi and other officials in myanmar on monday, to urge a halt to the violence. suu kyi s office said marsudi expressed the indonesian government s  support of the activities of the myanmar government for the stability, peace and development of rakhine state . they also discussed humanitarian aid and the two countries would collaborate for the development of the state, suu kyi s office said without giving further details.   there were more anti-myanmar protests in jakarta on monday.  malala yousafzai, the youngest winner of the nobel peace prize, called on suu kyi to condemn the  shameful  treatment of the rohingya, saying  the world is waiting  for her to speak out. in addition to tens of thousands of rohingya, more than 11,700  ethnic residents  had been evacuated from northern rakhine state, the myanmar government has said, referring to non-muslims. the army said on sunday rohingya insurgents had set fire to monasteries, images of buddha as well as schools and houses in the north of rakhine state. it posted images of destroyed buddha statues. ',\n",
       "       'comedy central launches late-night trump-mocking ’president show’ comedy central is set to debut a new weekly late night series, the president show, that will see comedian anthony atamanuik play a parody president donald trump who will address the american people straight from the oval office. [the new show, created by atamanuik, will premier on thursday, april 27 and will reportedly run weekly if it becomes a ratings success.  “when i was first approached about this show i thought it would be about me, but on further thought, this makes way more sense,” comedy central president kent alterman said.  comedy central released a short video clip on monday, which offers a glimpse of what audiences can expect from atamanuik’s parody trump.   . @latenightdonald makes a surprising announcement. no, he’s not resigning. #presidentshowpic. twitter.   —   the president show (@presidentshow) april 3, 2017,  “they unzipped my pants. they got on their knees, it was disgusting,” atamanuik says, surrounded by a gaggle of reporters on air force one. “and i would get incredible ratings, some of the best ratings, huge ratings. great ratings, ok? and they’d say, you want to be on the same channel as noah trevor, or whatever the guy’s name is. who cares? whatever. i said just invite me on and be nice. ” “i’ll have the best guests, the most beautiful women. it will be so funny, the most funny show,” he says. atamanuik has made something of a career out of lampooning the president. the 30 rock alum has performed his trump impersonation on the view, cnn’s newsroom, and on a   trump vs. bernie debate comedy tour that aired on fusion. “laughing at the president is a proud american tradition and we hope not to disappoint anyone in that department,” atamanuik said in a statement. “but our political system is too broken for us to be content joking about one man, even though he is a disastrous silly little toddler boy. mostly i’d just like to thank comedy central for giving us this platform to speak truth to power and if we’re lucky, end up in prison!”   follow jerome hudson on twitter: @jeromeehudson'],\n",
       "      dtype=object)"
      ]
     },
     "metadata": {},
     "execution_count": 47
    }
   ],
   "metadata": {}
  },
  {
   "cell_type": "code",
   "execution_count": null,
   "source": [],
   "outputs": [],
   "metadata": {}
  }
 ],
 "metadata": {
  "kernelspec": {
   "name": "python3",
   "display_name": "Python 3.7.4 64-bit (conda)"
  },
  "language_info": {
   "codemirror_mode": {
    "name": "ipython",
    "version": 3
   },
   "file_extension": ".py",
   "mimetype": "text/x-python",
   "name": "python",
   "nbconvert_exporter": "python",
   "pygments_lexer": "ipython3",
   "version": "3.7.4"
  },
  "interpreter": {
   "hash": "dca0ade3e726a953b501b15e8e990130d2b7799f14cfd9f4271676035ebe5511"
  }
 },
 "nbformat": 4,
 "nbformat_minor": 4
}